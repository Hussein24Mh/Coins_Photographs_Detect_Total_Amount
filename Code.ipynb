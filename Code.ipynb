{
 "cells": [
  {
   "cell_type": "markdown",
   "id": "e55d4a23",
   "metadata": {},
   "source": [
    "# This simple project can detect the amount coins, and print on the image the total amount"
   ]
  },
  {
   "cell_type": "markdown",
   "id": "14833564",
   "metadata": {},
   "source": [
    "### First we import relevant library"
   ]
  },
  {
   "cell_type": "code",
   "execution_count": 4,
   "id": "f41e70a3",
   "metadata": {},
   "outputs": [],
   "source": [
    "from PIL import Image\n",
    "import matplotlib.pyplot as plt\n",
    "import numpy as np\n",
    "import cv2\n",
    "\n",
    "file_name = \"test_image.png\""
   ]
  },
  {
   "cell_type": "code",
   "execution_count": 5,
   "id": "aa2fa1cf",
   "metadata": {},
   "outputs": [],
   "source": [
    "# here we make some filters to the image to make it easier in processing because colours will make it so difficult\n",
    "\n",
    "original_image = cv2.imread(file_name, 1)\n",
    "\n",
    "img = cv2.imread(file_name , cv2.IMREAD_GRAYSCALE)\n",
    "\n",
    "img_update = cv2.GaussianBlur(img, (5,5), 0)\n"
   ]
  },
  {
   "cell_type": "markdown",
   "id": "03e604e8",
   "metadata": {},
   "source": [
    "### Uning HoughCircles from opencv we can detect all circles in image easily"
   ]
  },
  {
   "cell_type": "code",
   "execution_count": 6,
   "id": "dc330d29",
   "metadata": {},
   "outputs": [
    {
     "name": "stdout",
     "output_type": "stream",
     "text": [
      "[[[1357.5  253.5  112.8]\n",
      "  [1629.5  281.5   88.8]\n",
      "  [ 994.5  132.5  108. ]\n",
      "  [1203.5  742.5  103.1]\n",
      "  [ 976.5  638.5   99.5]\n",
      "  [1696.5  500.5  119.4]\n",
      "  [1256.5  467.5  106.1]\n",
      "  [1433.5  642.5  119.4]]]\n"
     ]
    }
   ],
   "source": [
    "circles = cv2.HoughCircles(img_update,cv2.HOUGH_GRADIENT,0.9,120,param1=50,param2=27,minRadius=60,maxRadius=120)\n",
    "# now we can print that, and see what we get\n",
    "print(circles)"
   ]
  },
  {
   "cell_type": "code",
   "execution_count": 7,
   "id": "c2522d4a",
   "metadata": {},
   "outputs": [
    {
     "name": "stdout",
     "output_type": "stream",
     "text": [
      "[[[1358  254  113]\n",
      "  [1630  282   89]\n",
      "  [ 994  132  108]\n",
      "  [1204  742  103]\n",
      "  [ 976  638  100]\n",
      "  [1696  500  119]\n",
      "  [1256  468  106]\n",
      "  [1434  642  119]]]\n",
      "<class 'numpy.ndarray'>\n"
     ]
    }
   ],
   "source": [
    "circles = np.uint16(np.around(circles))\n",
    "print(circles)\n",
    "print(type(circles))"
   ]
  },
  {
   "cell_type": "code",
   "execution_count": 9,
   "id": "fc7f173a",
   "metadata": {},
   "outputs": [],
   "source": [
    "# this part just to view our work until now\n",
    "count =1\n",
    "for i in circles[0,:]:\n",
    "    \n",
    "    # draw the outer circle (file name , (circle location from circle object),size ,color , line thickness)\n",
    "    cv2.circle(original_image,(i[0],i[1]),i[2],(0,255,0),2)\n",
    "    \n",
    "    # draw the center of the circle\n",
    "    cv2.circle(original_image,(i[0],i[1]),2,(0,0,255),3)\n",
    "    \n",
    "    # draw the number of the circle\n",
    "    #cv2.putText(original_image, str(count), (i[0],i[1]), cv2.FONT_HERSHEY_SIMPLEX, 2, (0, 0, 0), 2)\n",
    "    count +=1"
   ]
  },
  {
   "cell_type": "code",
   "execution_count": 10,
   "id": "f177c935",
   "metadata": {},
   "outputs": [
    {
     "name": "stdout",
     "output_type": "stream",
     "text": [
      "[113, 89, 108, 103, 100, 119, 106, 119]\n"
     ]
    }
   ],
   "source": [
    "def get_radius(nested):\n",
    "    radius = []\n",
    "    for i in nested[0,:]:\n",
    "        radius.append(i[2])\n",
    "    return radius\n",
    "\n",
    "\n",
    "radii = get_radius(circles)\n",
    "print(radii)"
   ]
  },
  {
   "cell_type": "code",
   "execution_count": 11,
   "id": "39e69a45",
   "metadata": {},
   "outputs": [
    {
     "name": "stdout",
     "output_type": "stream",
     "text": [
      "[185.45375, 180.9975, 100.78625, 75.79375, 75.544375, 95.278125, 126.86625, 87.255]\n"
     ]
    }
   ],
   "source": [
    "def av_pix(img,circles,size):\n",
    "    av_value = []\n",
    "    for coords in circles[0,:]:\n",
    "        col = np.mean(img[coords[1]-size:coords[1]+size,coords[0]-size:coords[0]+size])\n",
    "#         print(img[coords[1]-size:coords[1]+size,coords[0]-size:coords[0]+size])\n",
    "#         print('\\n\\n')\n",
    "        av_value.append(col)\n",
    "    return av_value \n",
    "\n",
    "bright_values = av_pix(img_update,circles,20)\n",
    "print(bright_values)"
   ]
  },
  {
   "cell_type": "code",
   "execution_count": 12,
   "id": "0efb700e",
   "metadata": {},
   "outputs": [
    {
     "name": "stdout",
     "output_type": "stream",
     "text": [
      "[10, 5, 1, 1, 1, 2, 1, 2]\n"
     ]
    }
   ],
   "source": [
    "values = []\n",
    "for a,b in zip(bright_values,radii):\n",
    "    if a > 150 and b > 110:\n",
    "        values.append(10)\n",
    "    elif a > 150 and b <= 110:\n",
    "        values.append(5)\n",
    "    elif a < 150 and b > 110:\n",
    "        values.append(2)\n",
    "    elif a < 150 and b < 110:\n",
    "        values.append(1)        \n",
    "print(values)  "
   ]
  },
  {
   "cell_type": "code",
   "execution_count": 13,
   "id": "4e5db31c",
   "metadata": {},
   "outputs": [],
   "source": [
    "count_2 = 0\n",
    "for i in circles[0,:]:\n",
    "    \n",
    "    cv2.putText(original_image, str(values[count_2]) + 'p',(i[0],i[1]), cv2.FONT_HERSHEY_SIMPLEX, 2, (0,0,0), 2)\n",
    "    count_2 += 1"
   ]
  },
  {
   "cell_type": "code",
   "execution_count": 14,
   "id": "98405246",
   "metadata": {},
   "outputs": [],
   "source": [
    "cv2.putText(original_image, 'ESTIMATED TOTAL VALUE: ' + str(sum(values)) + 'p', (200,100), cv2.FONT_HERSHEY_SIMPLEX, 1.3, 255)\n",
    "\n",
    "h = 44 # don't print"
   ]
  },
  {
   "cell_type": "code",
   "execution_count": 15,
   "id": "2d257d0e",
   "metadata": {},
   "outputs": [],
   "source": [
    "cv2.imshow('detected circles',original_image)\n",
    "cv2.waitKey(0)\n",
    "cv2.destroyAllWindows()"
   ]
  },
  {
   "cell_type": "code",
   "execution_count": null,
   "id": "fa63dbb1",
   "metadata": {},
   "outputs": [],
   "source": []
  }
 ],
 "metadata": {
  "kernelspec": {
   "display_name": "Python 3",
   "language": "python",
   "name": "python3"
  },
  "language_info": {
   "codemirror_mode": {
    "name": "ipython",
    "version": 3
   },
   "file_extension": ".py",
   "mimetype": "text/x-python",
   "name": "python",
   "nbconvert_exporter": "python",
   "pygments_lexer": "ipython3",
   "version": "3.8.8"
  }
 },
 "nbformat": 4,
 "nbformat_minor": 5
}
